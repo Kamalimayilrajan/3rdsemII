{
 "cells": [
  {
   "cell_type": "code",
   "execution_count": 1,
   "id": "de6dacc2",
   "metadata": {},
   "outputs": [],
   "source": [
    "a=10"
   ]
  },
  {
   "cell_type": "code",
   "execution_count": 2,
   "id": "97309bcc",
   "metadata": {},
   "outputs": [
    {
     "data": {
      "text/plain": [
       "10"
      ]
     },
     "execution_count": 2,
     "metadata": {},
     "output_type": "execute_result"
    }
   ],
   "source": [
    "a"
   ]
  },
  {
   "cell_type": "code",
   "execution_count": 3,
   "id": "d99c7b00",
   "metadata": {},
   "outputs": [
    {
     "name": "stdout",
     "output_type": "stream",
     "text": [
      "10\n"
     ]
    }
   ],
   "source": [
    "print(a)"
   ]
  },
  {
   "cell_type": "markdown",
   "id": "b0db1803",
   "metadata": {},
   "source": [
    "# FORMAT PRINT"
   ]
  },
  {
   "cell_type": "code",
   "execution_count": 4,
   "id": "628773ef",
   "metadata": {},
   "outputs": [
    {
     "name": "stdout",
     "output_type": "stream",
     "text": [
      "the value of 'a' 10 is \n"
     ]
    }
   ],
   "source": [
    "print(\"the value of 'a' {} is \".format(a))"
   ]
  },
  {
   "cell_type": "code",
   "execution_count": 5,
   "id": "2397a540",
   "metadata": {},
   "outputs": [],
   "source": [
    "Name='kamali'"
   ]
  },
  {
   "cell_type": "code",
   "execution_count": 6,
   "id": "962fa19a",
   "metadata": {},
   "outputs": [
    {
     "data": {
      "text/plain": [
       "'kamali'"
      ]
     },
     "execution_count": 6,
     "metadata": {},
     "output_type": "execute_result"
    }
   ],
   "source": [
    "Name"
   ]
  },
  {
   "cell_type": "code",
   "execution_count": 7,
   "id": "d0ce8a0c",
   "metadata": {},
   "outputs": [
    {
     "name": "stdout",
     "output_type": "stream",
     "text": [
      "my name is kamali\n"
     ]
    }
   ],
   "source": [
    "print(\"my name is {}\".format(Name))"
   ]
  },
  {
   "cell_type": "code",
   "execution_count": 8,
   "id": "efc52d9d",
   "metadata": {},
   "outputs": [
    {
     "name": "stdout",
     "output_type": "stream",
     "text": [
      "my name is kamali.Im doing bachelors in PMIST\n"
     ]
    }
   ],
   "source": [
    "print(\"my name is {name}.Im doing bachelors in {collage}\".format(name=\"kamali\",collage=\"PMIST\"))"
   ]
  },
  {
   "cell_type": "code",
   "execution_count": 9,
   "id": "5fcf6ce2",
   "metadata": {},
   "outputs": [
    {
     "name": "stdout",
     "output_type": "stream",
     "text": [
      "I have AI class and I also have special class\n"
     ]
    }
   ],
   "source": [
    "print(\"I have {} class and I also have {} class\".format(\"AI\",\"special\"))"
   ]
  },
  {
   "cell_type": "code",
   "execution_count": 10,
   "id": "8fa2704f",
   "metadata": {},
   "outputs": [
    {
     "name": "stdout",
     "output_type": "stream",
     "text": [
      "I'm kamali and my sister is meera\n"
     ]
    }
   ],
   "source": [
    " print(\"I'm {} and my sister is {}\".format(\"kamali\",\"meera\"))"
   ]
  },
  {
   "cell_type": "markdown",
   "id": "07d87af0",
   "metadata": {},
   "source": [
    "# F-Print"
   ]
  },
  {
   "cell_type": "code",
   "execution_count": 11,
   "id": "1cd57e72",
   "metadata": {},
   "outputs": [
    {
     "name": "stdout",
     "output_type": "stream",
     "text": [
      "my name is kamali and I am robotics engineer\n"
     ]
    }
   ],
   "source": [
    "print(f\"my name is {'kamali'} and I am {'robotics'} engineer\")"
   ]
  },
  {
   "cell_type": "markdown",
   "id": "c6cb8754",
   "metadata": {},
   "source": [
    "# Task-1"
   ]
  },
  {
   "cell_type": "code",
   "execution_count": 12,
   "id": "6b01a6bb",
   "metadata": {},
   "outputs": [
    {
     "name": "stdout",
     "output_type": "stream",
     "text": [
      "she sell sea shell in sea shore\n"
     ]
    }
   ],
   "source": [
    "print(f'she sell {\"sea\"} shell in {\"sea shore\"}')"
   ]
  },
  {
   "cell_type": "markdown",
   "id": "6148ff99",
   "metadata": {},
   "source": [
    "# USER INPUT"
   ]
  },
  {
   "cell_type": "code",
   "execution_count": 13,
   "id": "edb4a8eb",
   "metadata": {},
   "outputs": [
    {
     "name": "stdout",
     "output_type": "stream",
     "text": [
      "26\n"
     ]
    },
    {
     "data": {
      "text/plain": [
       "'26'"
      ]
     },
     "execution_count": 13,
     "metadata": {},
     "output_type": "execute_result"
    }
   ],
   "source": [
    "input()"
   ]
  },
  {
   "cell_type": "code",
   "execution_count": 14,
   "id": "db28654f",
   "metadata": {},
   "outputs": [
    {
     "name": "stdout",
     "output_type": "stream",
     "text": [
      "hey world\n"
     ]
    }
   ],
   "source": [
    "vari=input()"
   ]
  },
  {
   "cell_type": "code",
   "execution_count": 15,
   "id": "763f4b15",
   "metadata": {},
   "outputs": [
    {
     "data": {
      "text/plain": [
       "str"
      ]
     },
     "execution_count": 15,
     "metadata": {},
     "output_type": "execute_result"
    }
   ],
   "source": [
    "type(vari)"
   ]
  },
  {
   "cell_type": "code",
   "execution_count": 17,
   "id": "83f22dc9",
   "metadata": {},
   "outputs": [
    {
     "data": {
      "text/plain": [
       "'hey world'"
      ]
     },
     "execution_count": 17,
     "metadata": {},
     "output_type": "execute_result"
    }
   ],
   "source": [
    "vari"
   ]
  },
  {
   "cell_type": "code",
   "execution_count": 18,
   "id": "9aa80bb2",
   "metadata": {},
   "outputs": [
    {
     "name": "stdout",
     "output_type": "stream",
     "text": [
      "Enter your Name kamali\n"
     ]
    }
   ],
   "source": [
    "var=input(\"Enter your Name\")"
   ]
  },
  {
   "cell_type": "code",
   "execution_count": null,
   "id": "d9fb34f6",
   "metadata": {},
   "outputs": [],
   "source": [
    "var"
   ]
  },
  {
   "cell_type": "code",
   "execution_count": 21,
   "id": "e8b52564",
   "metadata": {},
   "outputs": [
    {
     "data": {
      "text/plain": [
       "str"
      ]
     },
     "execution_count": 21,
     "metadata": {},
     "output_type": "execute_result"
    }
   ],
   "source": [
    "type(var)"
   ]
  },
  {
   "cell_type": "code",
   "execution_count": 22,
   "id": "511b4241",
   "metadata": {},
   "outputs": [
    {
     "name": "stdout",
     "output_type": "stream",
     "text": [
      "26 2\n"
     ]
    }
   ],
   "source": [
    "lol=int(input(\"26\"))"
   ]
  },
  {
   "cell_type": "code",
   "execution_count": 23,
   "id": "ea967654",
   "metadata": {},
   "outputs": [
    {
     "data": {
      "text/plain": [
       "int"
      ]
     },
     "execution_count": 23,
     "metadata": {},
     "output_type": "execute_result"
    }
   ],
   "source": [
    "type(lol)"
   ]
  },
  {
   "cell_type": "raw",
   "id": "4750ba05",
   "metadata": {},
   "source": []
  }
 ],
 "metadata": {
  "kernelspec": {
   "display_name": "Python 3 (ipykernel)",
   "language": "python",
   "name": "python3"
  },
  "language_info": {
   "codemirror_mode": {
    "name": "ipython",
    "version": 3
   },
   "file_extension": ".py",
   "mimetype": "text/x-python",
   "name": "python",
   "nbconvert_exporter": "python",
   "pygments_lexer": "ipython3",
   "version": "3.9.17"
  }
 },
 "nbformat": 4,
 "nbformat_minor": 5
}
